{
  "nbformat": 4,
  "nbformat_minor": 0,
  "metadata": {
    "colab": {
      "provenance": []
    },
    "kernelspec": {
      "name": "python3",
      "display_name": "Python 3"
    },
    "language_info": {
      "name": "python"
    }
  },
  "cells": [
    {
      "cell_type": "markdown",
      "source": [
        "# **Modular QAI Socio-Economic Governance System **\n",
        "\n",
        "Python simulation code that models Modular QAI Socio-Economic Governance System with Middleware Fabric, including:\n",
        "\n",
        "    1) Multiple departments (HR, Licensing, Treasury)\n",
        "\n",
        "    2) Middleware for validation, alerting, and metadata checks\n",
        "\n",
        "    3) Machine consciousness module that overrides biased human decisions"
      ],
      "metadata": {
        "id": "znmDUkTpWZ76"
      }
    },
    {
      "cell_type": "code",
      "execution_count": 1,
      "metadata": {
        "colab": {
          "base_uri": "https://localhost:8080/"
        },
        "id": "iiK4CbAuUmn8",
        "outputId": "19ee3292-ab8d-44ad-c129-04eeb3c8099e"
      },
      "outputs": [
        {
          "output_type": "stream",
          "name": "stdout",
          "text": [
            "[2025-06-23 05:46:54] 👤 Human HR Decision: Selected 'Mr. Arjun Mehta' for AI Ethics Director\n",
            "[2025-06-23 05:46:54] 🚨 Alert: Candidate 'Mr. Arjun Mehta' flagged for: Unverified license. Ticket ID: TICKET-73ba6bbb\n",
            "[2025-06-23 05:46:54] 🚨 Alert: Candidate 'Mr. Arjun Mehta' flagged for: Insufficient skills. Ticket ID: TICKET-40fad82b\n",
            "[2025-06-23 05:46:54] ⚖️ QAI Override: Human selected 'Mr. Arjun Mehta' but best candidate is 'Dr. Neha Roy'\n",
            "[2025-06-23 05:46:54] 🎯 Final QAI Decision: Appointed 'Dr. Neha Roy' via QAI Overrode\n",
            "\n",
            "🔍 Audit Trail:\n",
            "[2025-06-23 05:46:54] 👤 Human HR Decision: Selected 'Mr. Arjun Mehta' for AI Ethics Director\n",
            "[2025-06-23 05:46:54] 🚨 Alert: Candidate 'Mr. Arjun Mehta' flagged for: Unverified license. Ticket ID: TICKET-73ba6bbb\n",
            "[2025-06-23 05:46:54] 🚨 Alert: Candidate 'Mr. Arjun Mehta' flagged for: Insufficient skills. Ticket ID: TICKET-40fad82b\n",
            "[2025-06-23 05:46:54] ⚖️ QAI Override: Human selected 'Mr. Arjun Mehta' but best candidate is 'Dr. Neha Roy'\n",
            "[2025-06-23 05:46:54] 🎯 Final QAI Decision: Appointed 'Dr. Neha Roy' via QAI Overrode\n"
          ]
        }
      ],
      "source": [
        "import uuid\n",
        "from datetime import datetime\n",
        "\n",
        "# --- Audit Logging ---\n",
        "audit_log = []\n",
        "\n",
        "def log_event(event):\n",
        "    timestamp = datetime.now().strftime('%Y-%m-%d %H:%M:%S')\n",
        "    audit_log.append(f\"[{timestamp}] {event}\")\n",
        "    print(f\"[{timestamp}] {event}\")\n",
        "\n",
        "# --- Data Models ---\n",
        "class Candidate:\n",
        "    def __init__(self, name, license_verified, skills_score, salary_expected, favored=False):\n",
        "        self.name = name\n",
        "        self.license_verified = license_verified\n",
        "        self.skills_score = skills_score  # out of 100\n",
        "        self.salary_expected = salary_expected\n",
        "        self.favored = favored\n",
        "\n",
        "class JobRole:\n",
        "    def __init__(self, title, min_skills_score, license_required, salary_band):\n",
        "        self.title = title\n",
        "        self.min_skills_score = min_skills_score\n",
        "        self.license_required = license_required\n",
        "        self.salary_band = salary_band  # (min, max)\n",
        "\n",
        "# --- Middleware Fabric ---\n",
        "class MiddlewareFabric:\n",
        "    def __init__(self):\n",
        "        self.alerts = []\n",
        "\n",
        "    def verify_license(self, candidate):\n",
        "        return candidate.license_verified\n",
        "\n",
        "    def check_skills(self, candidate, job):\n",
        "        return candidate.skills_score >= job.min_skills_score\n",
        "\n",
        "    def check_salary(self, candidate, job):\n",
        "        return job.salary_band[0] <= candidate.salary_expected <= job.salary_band[1]\n",
        "\n",
        "    def generate_alert(self, candidate, reason):\n",
        "        ticket_id = f\"TICKET-{uuid.uuid4().hex[:8]}\"\n",
        "        alert = f\"🚨 Alert: Candidate '{candidate.name}' flagged for: {reason}. Ticket ID: {ticket_id}\"\n",
        "        self.alerts.append(alert)\n",
        "        log_event(alert)\n",
        "        return ticket_id\n",
        "\n",
        "    def route_to_conscious_agent(self, candidates, job, human_choice):\n",
        "        qualified = [c for c in candidates if self.verify_license(c) and\n",
        "                     self.check_skills(c, job) and self.check_salary(c, job)]\n",
        "        if not qualified:\n",
        "            return None, \"No qualified candidate\"\n",
        "        best = max(qualified, key=lambda c: c.skills_score)\n",
        "        if best.name != human_choice.name:\n",
        "            log_event(f\"⚖️ QAI Override: Human selected '{human_choice.name}' but best candidate is '{best.name}'\")\n",
        "            return best, \"QAI Overrode\"\n",
        "        log_event(f\"✅ QAI Audit: Human choice '{human_choice.name}' is correct\")\n",
        "        return best, \"QAI Approved\"\n",
        "\n",
        "# --- Simulation Logic ---\n",
        "def simulate_department_decisions():\n",
        "    # Job setup\n",
        "    job = JobRole(\"AI Ethics Director\", min_skills_score=90, license_required=True, salary_band=(150000, 200000))\n",
        "\n",
        "    # Candidate pool\n",
        "    candidates = [\n",
        "        Candidate(\"Dr. Neha Roy\", license_verified=True, skills_score=95, salary_expected=180000),\n",
        "        Candidate(\"Mr. Arjun Mehta\", license_verified=False, skills_score=70, salary_expected=190000, favored=True)\n",
        "    ]\n",
        "\n",
        "    # Step 1: Human HR selects a favored candidate\n",
        "    human_choice = [c for c in candidates if c.favored][0]\n",
        "    log_event(f\"👤 Human HR Decision: Selected '{human_choice.name}' for {job.title}\")\n",
        "\n",
        "    # Step 2: Middleware checks\n",
        "    middleware = MiddlewareFabric()\n",
        "    if not middleware.verify_license(human_choice):\n",
        "        middleware.generate_alert(human_choice, \"Unverified license\")\n",
        "    if not middleware.check_skills(human_choice, job):\n",
        "        middleware.generate_alert(human_choice, \"Insufficient skills\")\n",
        "    if not middleware.check_salary(human_choice, job):\n",
        "        middleware.generate_alert(human_choice, \"Salary mismatch\")\n",
        "\n",
        "    # Step 3: QAI Conscious Agent override logic\n",
        "    final_candidate, result = middleware.route_to_conscious_agent(candidates, job, human_choice)\n",
        "    if final_candidate:\n",
        "        log_event(f\"🎯 Final QAI Decision: Appointed '{final_candidate.name}' via {result}\")\n",
        "    else:\n",
        "        log_event(f\"❌ No suitable candidate found for {job.title}\")\n",
        "\n",
        "    # Step 4: Show audit log\n",
        "    print(\"\\n🔍 Audit Trail:\")\n",
        "    for entry in audit_log:\n",
        "        print(entry)\n",
        "\n",
        "# --- Run the Simulation ---\n",
        "simulate_department_decisions()\n"
      ]
    },
    {
      "cell_type": "markdown",
      "source": [
        "**Concept and execution by Bhadale IT, code generated by ChatGPT **"
      ],
      "metadata": {
        "id": "DRtZOnDZW4a0"
      }
    }
  ]
}