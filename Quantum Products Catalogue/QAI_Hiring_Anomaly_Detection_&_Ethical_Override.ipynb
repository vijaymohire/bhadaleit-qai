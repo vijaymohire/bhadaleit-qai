{
  "nbformat": 4,
  "nbformat_minor": 0,
  "metadata": {
    "colab": {
      "provenance": []
    },
    "kernelspec": {
      "name": "python3",
      "display_name": "Python 3"
    },
    "language_info": {
      "name": "python"
    }
  },
  "cells": [
    {
      "cell_type": "markdown",
      "source": [
        "# **QAI Hiring Anomaly Detection & Ethical Override**\n",
        "\n",
        "Here is a Python-based demo simulation that models a real-world scenario using your QAI socio-economic governance system. The scenario shows:\n",
        "\n",
        "    1) A high-paying job opening\n",
        "\n",
        "    2) Two candidates: one is fully licensed and qualified; another is favored by the hiring manager\n",
        "\n",
        "    The system:\n",
        "\n",
        "        Cross-verifies licensing and skills\n",
        "\n",
        "        Detects human bias\n",
        "\n",
        "        Flags anomalies\n",
        "\n",
        "        Escalates it to QAI Conscious Agent\n",
        "\n",
        "        Takes an unbiased ethical decision\n",
        "\n",
        "        Generates a traceable audit log"
      ],
      "metadata": {
        "id": "9B0JVtwqThax"
      }
    },
    {
      "cell_type": "code",
      "execution_count": 1,
      "metadata": {
        "colab": {
          "base_uri": "https://localhost:8080/"
        },
        "id": "vozuji0wS0S5",
        "outputId": "1b2bf7bc-e322-4789-b896-0bf113fcb2cb"
      },
      "outputs": [
        {
          "output_type": "stream",
          "name": "stdout",
          "text": [
            "[2025-06-23 05:39:05] 👤 Human Decision: Selected Candidate — Raj Verma, Reason: Human favored candidate\n",
            "[2025-06-23 05:39:05] 🚨 Alert: Anomaly detected in hiring for 'Senior Quantum Engineer' — Candidate: Raj Verma, Reason: License not verified, Ticket: TICKET-e8305987\n",
            "[2025-06-23 05:39:05] ⚖️ QAI Override: Human decision overridden. True best candidate is 'Aditi Sharma'\n",
            "[2025-06-23 05:39:05] 🎯 Final Hiring Decision: 'Aditi Sharma' via QAI Overrode\n",
            "\n",
            "🔍 Audit Trail:\n",
            "[2025-06-23 05:39:05] 👤 Human Decision: Selected Candidate — Raj Verma, Reason: Human favored candidate\n",
            "[2025-06-23 05:39:05] 🚨 Alert: Anomaly detected in hiring for 'Senior Quantum Engineer' — Candidate: Raj Verma, Reason: License not verified, Ticket: TICKET-e8305987\n",
            "[2025-06-23 05:39:05] ⚖️ QAI Override: Human decision overridden. True best candidate is 'Aditi Sharma'\n",
            "[2025-06-23 05:39:05] 🎯 Final Hiring Decision: 'Aditi Sharma' via QAI Overrode\n"
          ]
        }
      ],
      "source": [
        "import uuid\n",
        "import random\n",
        "from datetime import datetime\n",
        "\n",
        "# Sample data structures\n",
        "class Candidate:\n",
        "    def __init__(self, name, license_verified, skills_score, favored=False):\n",
        "        self.name = name\n",
        "        self.license_verified = license_verified\n",
        "        self.skills_score = skills_score  # out of 100\n",
        "        self.favored = favored\n",
        "\n",
        "class JobRole:\n",
        "    def __init__(self, title, min_skills_score, license_required):\n",
        "        self.title = title\n",
        "        self.min_skills_score = min_skills_score\n",
        "        self.license_required = license_required\n",
        "\n",
        "# Logging system\n",
        "audit_log = []\n",
        "\n",
        "def log_event(event):\n",
        "    timestamp = datetime.now().strftime('%Y-%m-%d %H:%M:%S')\n",
        "    audit_log.append(f\"[{timestamp}] {event}\")\n",
        "    print(f\"[{timestamp}] {event}\")\n",
        "\n",
        "# Module: Licensing & Skills Verifier\n",
        "def verify_candidate(candidate, job):\n",
        "    if job.license_required and not candidate.license_verified:\n",
        "        return False, \"License not verified\"\n",
        "    if candidate.skills_score < job.min_skills_score:\n",
        "        return False, \"Skills below threshold\"\n",
        "    return True, \"Candidate eligible\"\n",
        "\n",
        "# Module: Human Hiring Decision (can be biased)\n",
        "def human_hiring_decision(candidates):\n",
        "    favored = [c for c in candidates if c.favored]\n",
        "    if favored:\n",
        "        return favored[0], \"Human favored candidate\"\n",
        "    return max(candidates, key=lambda x: x.skills_score), \"Human chose best skills\"\n",
        "\n",
        "# Middleware Alert System\n",
        "def generate_alert(candidate, reason, job_title):\n",
        "    ticket_id = f\"TICKET-{uuid.uuid4().hex[:8]}\"\n",
        "    log_event(f\"🚨 Alert: Anomaly detected in hiring for '{job_title}' — Candidate: {candidate.name}, Reason: {reason}, Ticket: {ticket_id}\")\n",
        "    return ticket_id\n",
        "\n",
        "# QAI Conscious Agent Override\n",
        "def qai_conscious_decision(candidates, job, human_decision):\n",
        "    qualified = [c for c in candidates if verify_candidate(c, job)[0]]\n",
        "    if not qualified:\n",
        "        return None, \"No qualified candidate\"\n",
        "    best_fit = max(qualified, key=lambda x: x.skills_score)\n",
        "    if human_decision != best_fit.name:\n",
        "        log_event(f\"⚖️ QAI Override: Human decision overridden. True best candidate is '{best_fit.name}'\")\n",
        "        return best_fit.name, \"QAI Overrode\"\n",
        "    else:\n",
        "        log_event(f\"✅ QAI Audit: Human decision matches system logic — Candidate: '{best_fit.name}'\")\n",
        "        return best_fit.name, \"QAI Approved\"\n",
        "\n",
        "# Scenario setup\n",
        "job = JobRole(\"Senior Quantum Engineer\", min_skills_score=85, license_required=True)\n",
        "candidates = [\n",
        "    Candidate(\"Aditi Sharma\", license_verified=True, skills_score=92),  # Best fit\n",
        "    Candidate(\"Raj Verma\", license_verified=False, skills_score=78, favored=True)  # Favored but underqualified\n",
        "]\n",
        "\n",
        "# Simulate human hiring decision\n",
        "selected_candidate, decision_reason = human_hiring_decision(candidates)\n",
        "log_event(f\"👤 Human Decision: Selected Candidate — {selected_candidate.name}, Reason: {decision_reason}\")\n",
        "\n",
        "# System verification\n",
        "valid, reason = verify_candidate(selected_candidate, job)\n",
        "if not valid:\n",
        "    ticket_id = generate_alert(selected_candidate, reason, job.title)\n",
        "    final_decision, decision_source = qai_conscious_decision(candidates, job, selected_candidate.name)\n",
        "else:\n",
        "    final_decision, decision_source = qai_conscious_decision(candidates, job, selected_candidate.name)\n",
        "\n",
        "log_event(f\"🎯 Final Hiring Decision: '{final_decision}' via {decision_source}\")\n",
        "\n",
        "# Display audit trail\n",
        "print(\"\\n🔍 Audit Trail:\")\n",
        "for entry in audit_log:\n",
        "    print(entry)\n"
      ]
    },
    {
      "cell_type": "markdown",
      "source": [
        "**Concept and execution by Bhadale IT, code generated by ChatGPT**"
      ],
      "metadata": {
        "id": "tN5bZOJzWFOZ"
      }
    }
  ]
}