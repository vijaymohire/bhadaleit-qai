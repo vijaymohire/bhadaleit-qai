{
  "nbformat": 4,
  "nbformat_minor": 0,
  "metadata": {
    "colab": {
      "provenance": []
    },
    "kernelspec": {
      "name": "python3",
      "display_name": "Python 3"
    },
    "language_info": {
      "name": "python"
    }
  },
  "cells": [
    {
      "cell_type": "markdown",
      "source": [
        "# **Hybrid Classical + Quantum Cryptographic Communication System**\n",
        "\n",
        "Working hybrid crypto simulation that:\n",
        "\n",
        "    1) Models basic QKD noise and error.\n",
        "\n",
        "    2) Evaluates quantum channel health via entropy.\n",
        "\n",
        "    3) Performs fallback route logic based on detected anomalies.\n",
        "\n",
        "    4) Uses real symmetric encryption (AES) like a post-quantum hybrid might."
      ],
      "metadata": {
        "id": "FekTzylWv7Qq"
      }
    },
    {
      "cell_type": "code",
      "source": [
        "# Install required libraries\n",
        "!pip install pycryptodome"
      ],
      "metadata": {
        "colab": {
          "base_uri": "https://localhost:8080/"
        },
        "id": "zvhoC46Cul_O",
        "outputId": "928e03ed-b2fe-4fdb-f92b-b22f0d650821"
      },
      "execution_count": 1,
      "outputs": [
        {
          "output_type": "stream",
          "name": "stdout",
          "text": [
            "Collecting pycryptodome\n",
            "  Downloading pycryptodome-3.23.0-cp37-abi3-manylinux_2_17_x86_64.manylinux2014_x86_64.whl.metadata (3.4 kB)\n",
            "Downloading pycryptodome-3.23.0-cp37-abi3-manylinux_2_17_x86_64.manylinux2014_x86_64.whl (2.3 MB)\n",
            "\u001b[2K   \u001b[90m━━━━━━━━━━━━━━━━━━━━━━━━━━━━━━━━━━━━━━━━\u001b[0m \u001b[32m2.3/2.3 MB\u001b[0m \u001b[31m15.8 MB/s\u001b[0m eta \u001b[36m0:00:00\u001b[0m\n",
            "\u001b[?25hInstalling collected packages: pycryptodome\n",
            "Successfully installed pycryptodome-3.23.0\n"
          ]
        }
      ]
    },
    {
      "cell_type": "code",
      "execution_count": 3,
      "metadata": {
        "colab": {
          "base_uri": "https://localhost:8080/"
        },
        "id": "rZqeVPJQuhS_",
        "outputId": "5b0c9bfb-a5d7-48ca-e921-043645dff951"
      },
      "outputs": [
        {
          "output_type": "stream",
          "name": "stdout",
          "text": [
            "🔐 Starting QKD Session...\n",
            "🔄 Checking Key Integrity...\n",
            "🧪 QKD Key Entropy: 0.989\n",
            "📡 Selected Route: Quantum Route → Secure Transmission\n",
            "🛡️ Encrypting Message...\n",
            "📨 Ciphertext (base64): HewIQv2UqsBLjdTmWGpthPkrQdkWW/W2Y5OH2kdKeuhITuszjr+YK//0+bmC7g==...\n",
            "🔓 Decrypting Message...\n",
            "✅ Decrypted: Quantum secure message: Mission Sync Code Zeta\n"
          ]
        }
      ],
      "source": [
        "\n",
        "import random\n",
        "import hashlib\n",
        "import base64\n",
        "import time\n",
        "import math\n",
        "from Crypto.Cipher import AES\n",
        "from Crypto.Random import get_random_bytes\n",
        "\n",
        "# --- 1. Simulated QKD Key Exchange ---\n",
        "def simulate_qkd_key(length=16, error_prob=0.05):\n",
        "    key = []\n",
        "    for _ in range(length):\n",
        "        bit = random.choice([0, 1])\n",
        "        # Simulate quantum error\n",
        "        if random.random() < error_prob:\n",
        "            bit ^= 1  # Bit flip\n",
        "        key.append(str(bit))\n",
        "    return ''.join(key)\n",
        "\n",
        "# --- 2. Convert QKD Key to AES Key ---\n",
        "def qkd_to_aes_key(qkd_key):\n",
        "    # Hash QKD key to 128-bit AES key\n",
        "    return hashlib.sha256(qkd_key.encode()).digest()[:16]\n",
        "\n",
        "# --- 3. PQC-style AES Encryption ---\n",
        "def encrypt_message(message, key):\n",
        "    cipher = AES.new(key, AES.MODE_EAX)\n",
        "    ciphertext, tag = cipher.encrypt_and_digest(message.encode())\n",
        "    return {\n",
        "        'ciphertext': base64.b64encode(ciphertext).decode(),\n",
        "        'nonce': base64.b64encode(cipher.nonce).decode(),\n",
        "        'tag': base64.b64encode(tag).decode()\n",
        "    }\n",
        "\n",
        "def decrypt_message(encrypted, key):\n",
        "    cipher = AES.new(key, AES.MODE_EAX, nonce=base64.b64decode(encrypted['nonce']))\n",
        "    plaintext = cipher.decrypt_and_verify(\n",
        "        base64.b64decode(encrypted['ciphertext']),\n",
        "        base64.b64decode(encrypted['tag'])\n",
        "    )\n",
        "    return plaintext.decode()\n",
        "\n",
        "# --- 4. Corrected Entropy Calculation ---\n",
        "def calculate_entropy(bits):\n",
        "    p0 = bits.count('0') / len(bits)\n",
        "    p1 = bits.count('1') / len(bits)\n",
        "    entropy = 0\n",
        "    if p0 > 0:\n",
        "        entropy -= p0 * math.log2(p0)\n",
        "    if p1 > 0:\n",
        "        entropy -= p1 * math.log2(p1)\n",
        "    return round(entropy, 3)\n",
        "\n",
        "def detect_anomaly(qkd_key):\n",
        "    entropy = calculate_entropy(qkd_key)\n",
        "    print(f\"🧪 QKD Key Entropy: {entropy}\")\n",
        "    if entropy < 0.9 or entropy > 1.1:\n",
        "        print(\"⚠️  Anomaly Detected: Channel integrity compromised.\")\n",
        "        return True\n",
        "    return False\n",
        "\n",
        "# --- 5. Simulated Routing Logic ---\n",
        "def simulate_routing(qkd_valid=True):\n",
        "    if qkd_valid:\n",
        "        return \"Quantum Route → Secure Transmission\"\n",
        "    else:\n",
        "        return \"Classical Route → PQC-Only Fallback\"\n",
        "\n",
        "# --- 6. Run Demo ---\n",
        "def run_demo(user_message, error_prob=0.1):\n",
        "    print(\"🔐 Starting QKD Session...\")\n",
        "    qkd_key = simulate_qkd_key(error_prob=error_prob)\n",
        "    aes_key = qkd_to_aes_key(qkd_key)\n",
        "\n",
        "    print(\"🔄 Checking Key Integrity...\")\n",
        "    anomaly = detect_anomaly(qkd_key)\n",
        "\n",
        "    route = simulate_routing(not anomaly)\n",
        "    print(f\"📡 Selected Route: {route}\")\n",
        "\n",
        "    print(\"🛡️ Encrypting Message...\")\n",
        "    encrypted = encrypt_message(user_message, aes_key)\n",
        "    print(f\"📨 Ciphertext (base64): {encrypted['ciphertext'][:64]}...\")\n",
        "\n",
        "    print(\"🔓 Decrypting Message...\")\n",
        "    try:\n",
        "        decrypted = decrypt_message(encrypted, aes_key)\n",
        "        print(f\"✅ Decrypted: {decrypted}\")\n",
        "    except Exception as e:\n",
        "        print(\"❌ Decryption Failed. Reason:\", str(e))\n",
        "\n",
        "# === Run the Hybrid System Demo ===\n",
        "run_demo(\"Quantum secure message: Mission Sync Code Zeta\", error_prob=0.1)\n"
      ]
    },
    {
      "cell_type": "markdown",
      "source": [
        "**Concept and execution by Bhadale IT, code generated by ChatGPT**"
      ],
      "metadata": {
        "id": "KLv9AyXFxFe0"
      }
    }
  ]
}