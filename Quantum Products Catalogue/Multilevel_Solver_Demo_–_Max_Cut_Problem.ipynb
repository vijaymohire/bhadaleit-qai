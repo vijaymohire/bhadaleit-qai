{
  "nbformat": 4,
  "nbformat_minor": 0,
  "metadata": {
    "colab": {
      "provenance": []
    },
    "kernelspec": {
      "name": "python3",
      "display_name": "Python 3"
    },
    "language_info": {
      "name": "python"
    }
  },
  "cells": [
    {
      "cell_type": "markdown",
      "source": [
        "# **Multilevel combinatorial optimization system using a QUBO-based solver. **\n",
        "\n",
        " We'll simulate a Max-Cut graph partitioning problem – a classic combinatorial optimization problem often used in quantum computing benchmarks. This is part of the **Multilevel Combinatorial Optimization System across Quantum Architectures**\n",
        "\n",
        "This example includes:\n",
        "\n",
        "    1)  A simulated user input\n",
        "\n",
        "    2) A basic QUBO encoder\n",
        "\n",
        "    3) A simulated hybrid solver (Simulated Annealing + classical heuristics)\n",
        "\n",
        "    4) Multilevel execution pipeline\n",
        "\n",
        "    5) Re-run capability with different random seeds"
      ],
      "metadata": {
        "id": "QRGI2EQ7No2J"
      }
    },
    {
      "cell_type": "code",
      "execution_count": 1,
      "metadata": {
        "colab": {
          "base_uri": "https://localhost:8080/"
        },
        "id": "FGrJ4j8-NXec",
        "outputId": "c38bd55d-8e5e-404c-ccc3-8df1ea81acf5"
      },
      "outputs": [
        {
          "output_type": "stream",
          "name": "stdout",
          "text": [
            "🔁 Multilevel Combinatorial Optimization Demo (Max-Cut)\n",
            "🧠 User Input: Max-Cut problem on weighted undirected graph\n",
            "\n",
            "✅ Solver Result\n",
            "  Cut: [(0, 1), (1, 2), (1, 3)]\n",
            "  Cut size: 3\n",
            "  Energy (QUBO): -7.0\n",
            "  Node partition: [1, 0, 1, 1, 1]\n",
            "\n",
            "🔁 Rerunning trial with new seed...\n",
            "🧠 User Input: Max-Cut problem on weighted undirected graph\n",
            "\n",
            "✅ Solver Result\n",
            "  Cut: [(0, 2), (0, 4), (1, 2), (2, 3), (3, 4)]\n",
            "  Cut size: 5\n",
            "  Energy (QUBO): -7.0\n",
            "  Node partition: [1, 1, 0, 1, 0]\n"
          ]
        }
      ],
      "source": [
        "import numpy as np\n",
        "import networkx as nx\n",
        "import random\n",
        "\n",
        "# --- Module: Problem Input ---\n",
        "def get_user_input():\n",
        "    # Simulate user use-case: Max-Cut for a sample graph\n",
        "    print(\"🧠 User Input: Max-Cut problem on weighted undirected graph\")\n",
        "    G = nx.Graph()\n",
        "    edges = [\n",
        "        (0, 1, 2), (0, 2, 1), (1, 2, 3),\n",
        "        (1, 3, 2), (2, 3, 2), (3, 4, 1),\n",
        "        (4, 0, 3)\n",
        "    ]\n",
        "    G.add_weighted_edges_from(edges)\n",
        "    return G\n",
        "\n",
        "# --- Module: QUBO Encoder for Max-Cut ---\n",
        "def build_qubo_maxcut(G):\n",
        "    Q = {}\n",
        "    for i, j, w in G.edges(data='weight'):\n",
        "        Q[(i, i)] = Q.get((i, i), 0) - w / 2\n",
        "        Q[(j, j)] = Q.get((j, j), 0) - w / 2\n",
        "        Q[(i, j)] = Q.get((i, j), 0) + w / 2\n",
        "    return Q\n",
        "\n",
        "# --- Module: Simple Classical Solver (Simulated Annealing) ---\n",
        "def simulated_annealing(Q, num_reads=10):\n",
        "    n = max(max(i, j) for i, j in Q.keys()) + 1\n",
        "    best_solution = None\n",
        "    best_energy = float('inf')\n",
        "\n",
        "    for _ in range(num_reads):\n",
        "        sample = [random.choice([0, 1]) for _ in range(n)]\n",
        "        energy = calculate_qubo_energy(Q, sample)\n",
        "        if energy < best_energy:\n",
        "            best_energy = energy\n",
        "            best_solution = sample\n",
        "\n",
        "    return best_solution, best_energy\n",
        "\n",
        "def calculate_qubo_energy(Q, sample):\n",
        "    energy = 0\n",
        "    for (i, j), w in Q.items():\n",
        "        energy += w * sample[i] * sample[j]\n",
        "    return energy\n",
        "\n",
        "# --- Module: Result Interpretation ---\n",
        "def interpret_solution(G, solution):\n",
        "    cut_edges = []\n",
        "    for u, v in G.edges():\n",
        "        if solution[u] != solution[v]:\n",
        "            cut_edges.append((u, v))\n",
        "    return cut_edges\n",
        "\n",
        "# --- Module: Trial Runner ---\n",
        "def run_trial(seed=None):\n",
        "    if seed is not None:\n",
        "        random.seed(seed)\n",
        "        np.random.seed(seed)\n",
        "\n",
        "    G = get_user_input()\n",
        "    Q = build_qubo_maxcut(G)\n",
        "    solution, energy = simulated_annealing(Q, num_reads=20)\n",
        "    cut_edges = interpret_solution(G, solution)\n",
        "\n",
        "    print(\"\\n✅ Solver Result\")\n",
        "    print(f\"  Cut: {cut_edges}\")\n",
        "    print(f\"  Cut size: {len(cut_edges)}\")\n",
        "    print(f\"  Energy (QUBO): {energy}\")\n",
        "    print(f\"  Node partition: {solution}\")\n",
        "\n",
        "# --- Rerun Interface ---\n",
        "if __name__ == \"__main__\":\n",
        "    print(\"🔁 Multilevel Combinatorial Optimization Demo (Max-Cut)\")\n",
        "    run_trial(seed=42)  # Rerun with different seeds for trials\n",
        "    print(\"\\n🔁 Rerunning trial with new seed...\")\n",
        "    run_trial(seed=99)\n"
      ]
    },
    {
      "cell_type": "markdown",
      "source": [
        "**Concept and execution by Bhadale IT, code generated by ChatGPT**"
      ],
      "metadata": {
        "id": "-f4v4I4pOPPP"
      }
    }
  ]
}