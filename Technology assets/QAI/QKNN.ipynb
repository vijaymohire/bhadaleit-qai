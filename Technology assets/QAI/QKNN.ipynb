{
  "cells": [
    {
      "cell_type": "code",
      "execution_count": null,
      "metadata": {
        "id": "jMhPMsJ1mr4C"
      },
      "outputs": [],
      "source": [
        "# Installs the latest version of the Qiskit meta-package for circuit creation.\n",
        "!pip install qiskit -U\n"
      ]
    },
    {
      "cell_type": "code",
      "execution_count": null,
      "metadata": {
        "id": "fnjT23cEmtjy"
      },
      "outputs": [],
      "source": [
        "!pip install qiskit-ibm-runtime -U"
      ]
    },
    {
      "cell_type": "code",
      "execution_count": null,
      "metadata": {
        "id": "qG0CshFymwBM"
      },
      "outputs": [],
      "source": [
        "from qiskit import QuantumCircuit, transpile, assemble\n",
        "from qiskit_ibm_runtime.fake_provider import FakeManilaV2\n",
        "from qiskit_ibm_runtime import SamplerV2\n",
        "from qiskit_ibm_runtime import Session, Options\n",
        "from qiskit.visualization import plot_histogram\n",
        "import numpy as np\n",
        "from collections import Counter"
      ]
    },
    {
      "cell_type": "code",
      "source": [
        "from sklearn.neighbors import KNeighborsClassifier\n",
        "from sklearn.model_selection import train_test_split\n",
        "from sklearn.metrics import accuracy_score"
      ],
      "metadata": {
        "id": "7cko7WWK-GDD"
      },
      "execution_count": null,
      "outputs": []
    },
    {
      "cell_type": "code",
      "execution_count": null,
      "metadata": {
        "id": "d6kzUXZ4mzn8"
      },
      "outputs": [],
      "source": [
        "from qiskit_ibm_runtime import QiskitRuntimeService\n",
        "\n",
        "service = QiskitRuntimeService(channel=\"ibm_cloud\", token=\"\", instance=\"\")\n"
      ]
    },
    {
      "cell_type": "code",
      "execution_count": 34,
      "metadata": {
        "id": "veK4I3_mvzCR"
      },
      "outputs": [],
      "source": [
        "# Define the quantum circuit for Swap Test\n",
        "def create_swap_test_circuit():\n",
        "    qc = QuantumCircuit(3, 1)\n",
        "    qc.h(0)\n",
        "    qc.cx(0, 1)\n",
        "    qc.cx(0, 2)\n",
        "    qc.h(0)\n",
        "    qc.measure(0, 0)\n",
        "    return qc\n",
        "\n",
        "# Define function to run the quantum circuit using SamplerV2\n",
        "def run_swap_test_circuit(circuit):\n",
        "    backend = FakeManilaV2()  # Replace with your actual backend from IBM Quantum\n",
        "    transpiled_circuit = transpile(circuit, backend=backend)\n",
        "\n",
        "    # Initialize the SamplerV2\n",
        "    sampler = SamplerV2(backend=backend)\n",
        "\n",
        "   # Run the circuit using the SamplerV2\n",
        "    shots = 1024\n",
        "    job = sampler.run([transpiled_circuit], shots=shots)\n",
        "    result = job.result()\n",
        "\n",
        " # Extract and process counts from the result object\n",
        "    counts = extract_counts_from_result(result)\n",
        "\n",
        "    return counts\n",
        "\n",
        "def extract_counts_from_result(result):\n",
        "    \"\"\"Extract and process counts from the result object.\"\"\"\n",
        "    try:\n",
        "        # Result contains SamplerPubResult, extract the BitArray\n",
        "        pub_result = result[0]\n",
        "        data_bin = pub_result.data\n",
        "        bit_array = data_bin.c\n",
        "\n",
        "        # Convert BitArray to a numpy array or list\n",
        "        if hasattr(bit_array, 'to_list'):\n",
        "            bit_array_list = bit_array.to_list()\n",
        "        else:\n",
        "            bit_array_list = list(bit_array)\n",
        "\n",
        "        # Convert list of bitstrings to counts\n",
        "        counts = {}\n",
        "        for bits in bit_array_list:\n",
        "            bitstring = ''.join(map(str, bits))\n",
        "            counts[bitstring] = counts.get(bitstring, 0) + 1\n",
        "\n",
        "        return counts\n",
        "\n",
        "    except Exception as e:\n",
        "        print(f\"Error extracting counts from result: {e}\")\n",
        "        return {}\n",
        "\n"
      ]
    },
    {
      "cell_type": "code",
      "source": [
        "# Sample function to generate synthetic data for KNN classification\n",
        "def generate_synthetic_data():\n",
        "    # Generate synthetic features and labels\n",
        "    X = np.random.rand(100, 2)  # 100 samples, 2 features\n",
        "    y = np.random.randint(0, 2, 100)  # Binary classification\n",
        "    return X, y\n",
        "\n",
        "# Train and evaluate a KNN classifier\n",
        "def train_and_evaluate_knn(X_train, y_train, X_test, y_test):\n",
        "    # Initialize KNN classifier\n",
        "    knn = KNeighborsClassifier(n_neighbors=5)\n",
        "\n",
        "    # Train the classifier\n",
        "    knn.fit(X_train, y_train)\n",
        "\n",
        "    # Make predictions\n",
        "    y_pred = knn.predict(X_test)\n",
        "\n",
        "    # Evaluate accuracy\n",
        "    accuracy = accuracy_score(y_test, y_pred)\n",
        "    return accuracy\n",
        "\n",
        "print(\"Circuit before training:\")\n",
        "print(circuit.draw())\n",
        "\n",
        "# Create and run the Swap Test circuit\n",
        "circuit = create_swap_test_circuit()\n",
        "counts = run_swap_test_circuit(circuit)\n",
        "\n",
        "# Print the swap test results\n",
        "print(\"Swap Test Measurement Results:\")\n",
        "print(counts)\n",
        "\n",
        "\n",
        "\n",
        "# Generate synthetic data for demonstration\n",
        "X, y = generate_synthetic_data()\n",
        "\n",
        "# Split the data into training and testing sets\n",
        "X_train, X_test, y_train, y_test = train_test_split(X, y, test_size=0.3, random_state=42)\n",
        "\n",
        "# Train and evaluate the KNN classifier\n",
        "accuracy = train_and_evaluate_knn(X_train, y_train, X_test, y_test)\n",
        "print(f\"KNN Classifier Accuracy: {accuracy:.2f}\")\n",
        "\n",
        "# Print the circuit after applying the swap test\n",
        "print(\"\\nCircuit after swap test:\")\n",
        "print(circuit.draw())"
      ],
      "metadata": {
        "colab": {
          "base_uri": "https://localhost:8080/"
        },
        "id": "sVDmwfta-rmN",
        "outputId": "f0c901c9-8d87-42dc-b66a-a3e4e4d31bb4"
      },
      "execution_count": 35,
      "outputs": [
        {
          "output_type": "stream",
          "name": "stdout",
          "text": [
            "Circuit before training:\n",
            "     ┌───┐          ┌───┐┌─┐\n",
            "q_0: ┤ H ├──■────■──┤ H ├┤M├\n",
            "     └───┘┌─┴─┐  │  └───┘└╥┘\n",
            "q_1: ─────┤ X ├──┼────────╫─\n",
            "          └───┘┌─┴─┐      ║ \n",
            "q_2: ──────────┤ X ├──────╫─\n",
            "               └───┘      ║ \n",
            "c: 1/═════════════════════╩═\n",
            "                          0 \n",
            "Error extracting counts from result: The input array must have at least two axes.\n",
            "Swap Test Measurement Results:\n",
            "{}\n",
            "KNN Classifier Accuracy: 0.47\n",
            "\n",
            "Circuit after swap test:\n",
            "     ┌───┐          ┌───┐┌─┐\n",
            "q_0: ┤ H ├──■────■──┤ H ├┤M├\n",
            "     └───┘┌─┴─┐  │  └───┘└╥┘\n",
            "q_1: ─────┤ X ├──┼────────╫─\n",
            "          └───┘┌─┴─┐      ║ \n",
            "q_2: ──────────┤ X ├──────╫─\n",
            "               └───┘      ║ \n",
            "c: 1/═════════════════════╩═\n",
            "                          0 \n"
          ]
        },
        {
          "output_type": "stream",
          "name": "stderr",
          "text": [
            "<ipython-input-34-cc4ffc600dc8>:17: DeprecationWarning: The 'backend' keyword arguments are deprecated as of qiskit-ibm-runtime 0.24.0 and will be removed no sooner than 3 months after the release date. Please use the 'mode' parameter instead.\n",
            "  sampler = SamplerV2(backend=backend)\n",
            "/usr/local/lib/python3.10/dist-packages/qiskit_ibm_runtime/fake_provider/fake_backend.py:468: RuntimeWarning: Aer not found, using qiskit.BasicSimulator and no noise.\n",
            "  warnings.warn(\n"
          ]
        }
      ]
    }
  ],
  "metadata": {
    "colab": {
      "provenance": []
    },
    "kernelspec": {
      "display_name": "Python 3",
      "name": "python3"
    },
    "language_info": {
      "name": "python"
    }
  },
  "nbformat": 4,
  "nbformat_minor": 0
}