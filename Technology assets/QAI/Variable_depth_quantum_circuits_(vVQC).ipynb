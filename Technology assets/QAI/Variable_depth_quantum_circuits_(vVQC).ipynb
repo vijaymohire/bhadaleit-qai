{
  "nbformat": 4,
  "nbformat_minor": 0,
  "metadata": {
    "colab": {
      "provenance": []
    },
    "kernelspec": {
      "name": "python3",
      "display_name": "Python 3"
    },
    "language_info": {
      "name": "python"
    }
  },
  "cells": [
    {
      "cell_type": "code",
      "source": [
        "# Installs the latest version of the Qiskit meta-package for circuit creation.\n",
        "!pip install qiskit -U"
      ],
      "metadata": {
        "id": "nnSHlzXnWOa5",
        "colab": {
          "base_uri": "https://localhost:8080/"
        },
        "outputId": "04178ecf-401b-4188-8c81-4fde5bd6f4ba"
      },
      "execution_count": 1,
      "outputs": [
        {
          "output_type": "stream",
          "name": "stdout",
          "text": [
            "Requirement already satisfied: qiskit in /usr/local/lib/python3.10/dist-packages (1.1.1)\n",
            "Requirement already satisfied: rustworkx>=0.14.0 in /usr/local/lib/python3.10/dist-packages (from qiskit) (0.15.1)\n",
            "Requirement already satisfied: numpy<3,>=1.17 in /usr/local/lib/python3.10/dist-packages (from qiskit) (1.26.4)\n",
            "Requirement already satisfied: scipy>=1.5 in /usr/local/lib/python3.10/dist-packages (from qiskit) (1.13.1)\n",
            "Requirement already satisfied: sympy>=1.3 in /usr/local/lib/python3.10/dist-packages (from qiskit) (1.13.1)\n",
            "Requirement already satisfied: dill>=0.3 in /usr/local/lib/python3.10/dist-packages (from qiskit) (0.3.8)\n",
            "Requirement already satisfied: python-dateutil>=2.8.0 in /usr/local/lib/python3.10/dist-packages (from qiskit) (2.8.2)\n",
            "Requirement already satisfied: stevedore>=3.0.0 in /usr/local/lib/python3.10/dist-packages (from qiskit) (5.2.0)\n",
            "Requirement already satisfied: typing-extensions in /usr/local/lib/python3.10/dist-packages (from qiskit) (4.12.2)\n",
            "Requirement already satisfied: symengine>=0.11 in /usr/local/lib/python3.10/dist-packages (from qiskit) (0.11.0)\n",
            "Requirement already satisfied: six>=1.5 in /usr/local/lib/python3.10/dist-packages (from python-dateutil>=2.8.0->qiskit) (1.16.0)\n",
            "Requirement already satisfied: pbr!=2.1.0,>=2.0.0 in /usr/local/lib/python3.10/dist-packages (from stevedore>=3.0.0->qiskit) (6.0.0)\n",
            "Requirement already satisfied: mpmath<1.4,>=1.1.0 in /usr/local/lib/python3.10/dist-packages (from sympy>=1.3->qiskit) (1.3.0)\n"
          ]
        }
      ]
    },
    {
      "cell_type": "code",
      "source": [
        "!pip install qiskit-ibm-runtime -U"
      ],
      "metadata": {
        "colab": {
          "base_uri": "https://localhost:8080/"
        },
        "id": "LOfZGXeiXSK8",
        "outputId": "47411fe1-f1db-4f8d-9da1-1e393ff46656"
      },
      "execution_count": 2,
      "outputs": [
        {
          "output_type": "stream",
          "name": "stdout",
          "text": [
            "Requirement already satisfied: qiskit-ibm-runtime in /usr/local/lib/python3.10/dist-packages (0.26.0)\n",
            "Requirement already satisfied: requests>=2.19 in /usr/local/lib/python3.10/dist-packages (from qiskit-ibm-runtime) (2.31.0)\n",
            "Requirement already satisfied: requests-ntlm>=1.1.0 in /usr/local/lib/python3.10/dist-packages (from qiskit-ibm-runtime) (1.3.0)\n",
            "Requirement already satisfied: numpy>=1.13 in /usr/local/lib/python3.10/dist-packages (from qiskit-ibm-runtime) (1.26.4)\n",
            "Requirement already satisfied: urllib3>=1.21.1 in /usr/local/lib/python3.10/dist-packages (from qiskit-ibm-runtime) (2.2.2)\n",
            "Requirement already satisfied: python-dateutil>=2.8.0 in /usr/local/lib/python3.10/dist-packages (from qiskit-ibm-runtime) (2.8.2)\n",
            "Requirement already satisfied: websocket-client>=1.5.1 in /usr/local/lib/python3.10/dist-packages (from qiskit-ibm-runtime) (1.8.0)\n",
            "Requirement already satisfied: ibm-platform-services>=0.22.6 in /usr/local/lib/python3.10/dist-packages (from qiskit-ibm-runtime) (0.55.2)\n",
            "Requirement already satisfied: pydantic>=2.5.0 in /usr/local/lib/python3.10/dist-packages (from qiskit-ibm-runtime) (2.8.2)\n",
            "Requirement already satisfied: qiskit>=1.1.0 in /usr/local/lib/python3.10/dist-packages (from qiskit-ibm-runtime) (1.1.1)\n",
            "Requirement already satisfied: ibm-cloud-sdk-core<4.0.0,>=3.20.4 in /usr/local/lib/python3.10/dist-packages (from ibm-platform-services>=0.22.6->qiskit-ibm-runtime) (3.20.4)\n",
            "Requirement already satisfied: annotated-types>=0.4.0 in /usr/local/lib/python3.10/dist-packages (from pydantic>=2.5.0->qiskit-ibm-runtime) (0.7.0)\n",
            "Requirement already satisfied: pydantic-core==2.20.1 in /usr/local/lib/python3.10/dist-packages (from pydantic>=2.5.0->qiskit-ibm-runtime) (2.20.1)\n",
            "Requirement already satisfied: typing-extensions>=4.6.1 in /usr/local/lib/python3.10/dist-packages (from pydantic>=2.5.0->qiskit-ibm-runtime) (4.12.2)\n",
            "Requirement already satisfied: six>=1.5 in /usr/local/lib/python3.10/dist-packages (from python-dateutil>=2.8.0->qiskit-ibm-runtime) (1.16.0)\n",
            "Requirement already satisfied: rustworkx>=0.14.0 in /usr/local/lib/python3.10/dist-packages (from qiskit>=1.1.0->qiskit-ibm-runtime) (0.15.1)\n",
            "Requirement already satisfied: scipy>=1.5 in /usr/local/lib/python3.10/dist-packages (from qiskit>=1.1.0->qiskit-ibm-runtime) (1.13.1)\n",
            "Requirement already satisfied: sympy>=1.3 in /usr/local/lib/python3.10/dist-packages (from qiskit>=1.1.0->qiskit-ibm-runtime) (1.13.1)\n",
            "Requirement already satisfied: dill>=0.3 in /usr/local/lib/python3.10/dist-packages (from qiskit>=1.1.0->qiskit-ibm-runtime) (0.3.8)\n",
            "Requirement already satisfied: stevedore>=3.0.0 in /usr/local/lib/python3.10/dist-packages (from qiskit>=1.1.0->qiskit-ibm-runtime) (5.2.0)\n",
            "Requirement already satisfied: symengine>=0.11 in /usr/local/lib/python3.10/dist-packages (from qiskit>=1.1.0->qiskit-ibm-runtime) (0.11.0)\n",
            "Requirement already satisfied: charset-normalizer<4,>=2 in /usr/local/lib/python3.10/dist-packages (from requests>=2.19->qiskit-ibm-runtime) (3.3.2)\n",
            "Requirement already satisfied: idna<4,>=2.5 in /usr/local/lib/python3.10/dist-packages (from requests>=2.19->qiskit-ibm-runtime) (3.7)\n",
            "Requirement already satisfied: certifi>=2017.4.17 in /usr/local/lib/python3.10/dist-packages (from requests>=2.19->qiskit-ibm-runtime) (2024.7.4)\n",
            "Requirement already satisfied: cryptography>=1.3 in /usr/local/lib/python3.10/dist-packages (from requests-ntlm>=1.1.0->qiskit-ibm-runtime) (42.0.8)\n",
            "Requirement already satisfied: pyspnego>=0.4.0 in /usr/local/lib/python3.10/dist-packages (from requests-ntlm>=1.1.0->qiskit-ibm-runtime) (0.11.1)\n",
            "Requirement already satisfied: cffi>=1.12 in /usr/local/lib/python3.10/dist-packages (from cryptography>=1.3->requests-ntlm>=1.1.0->qiskit-ibm-runtime) (1.16.0)\n",
            "Requirement already satisfied: PyJWT<3.0.0,>=2.8.0 in /usr/local/lib/python3.10/dist-packages (from ibm-cloud-sdk-core<4.0.0,>=3.20.4->ibm-platform-services>=0.22.6->qiskit-ibm-runtime) (2.8.0)\n",
            "Requirement already satisfied: pbr!=2.1.0,>=2.0.0 in /usr/local/lib/python3.10/dist-packages (from stevedore>=3.0.0->qiskit>=1.1.0->qiskit-ibm-runtime) (6.0.0)\n",
            "Requirement already satisfied: mpmath<1.4,>=1.1.0 in /usr/local/lib/python3.10/dist-packages (from sympy>=1.3->qiskit>=1.1.0->qiskit-ibm-runtime) (1.3.0)\n",
            "Requirement already satisfied: pycparser in /usr/local/lib/python3.10/dist-packages (from cffi>=1.12->cryptography>=1.3->requests-ntlm>=1.1.0->qiskit-ibm-runtime) (2.22)\n"
          ]
        }
      ]
    },
    {
      "cell_type": "code",
      "source": [
        "!pip install pylatexenc"
      ],
      "metadata": {
        "colab": {
          "base_uri": "https://localhost:8080/"
        },
        "id": "eW4DyX6Sc1fN",
        "outputId": "d311d253-87bf-4e34-ba7a-393110b5461c"
      },
      "execution_count": 3,
      "outputs": [
        {
          "output_type": "stream",
          "name": "stdout",
          "text": [
            "Requirement already satisfied: pylatexenc in /usr/local/lib/python3.10/dist-packages (2.10)\n"
          ]
        }
      ]
    },
    {
      "cell_type": "code",
      "source": [
        "from qiskit_ibm_runtime import QiskitRuntimeService\n",
        "\n",
        "service = QiskitRuntimeService(channel=\"ibm_cloud\", token=\"\", instance=\"\")\n"
      ],
      "metadata": {
        "id": "mvUXKg1WXRzl"
      },
      "execution_count": 4,
      "outputs": []
    },
    {
      "cell_type": "code",
      "execution_count": 5,
      "metadata": {
        "id": "IuF5IGk6U6w4",
        "colab": {
          "base_uri": "https://localhost:8080/"
        },
        "outputId": "04be28a5-310c-4475-b453-0e0114a06d11"
      },
      "outputs": [
        {
          "output_type": "stream",
          "name": "stdout",
          "text": [
            "        ┌───┐                    ┌───┐┌───┐                    ┌───┐┌───┐     »\n",
            "   q_0: ┤ H ├──■─────────────────┤ X ├┤ H ├──■─────────────────┤ X ├┤ H ├──■──»\n",
            "        └───┘┌─┴─┐┌───┐          └─┬─┘└───┘┌─┴─┐┌───┐          └─┬─┘└───┘┌─┴─┐»\n",
            "   q_1: ─────┤ X ├┤ H ├──■─────────┼───────┤ X ├┤ H ├──■─────────┼───────┤ X ├»\n",
            "             └───┘└───┘┌─┴─┐┌───┐  │       └───┘└───┘┌─┴─┐┌───┐  │       └───┘»\n",
            "   q_2: ───────────────┤ X ├┤ H ├──■─────────────────┤ X ├┤ H ├──■────────────»\n",
            "                       └───┘└───┘                    └───┘└───┘               »\n",
            "meas: 3/══════════════════════════════════════════════════════════════════════»\n",
            "                                                                              »\n",
            "«                       ┌───┐┌───┐                    ┌───┐┌───┐               »\n",
            "«   q_0: ───────────────┤ X ├┤ H ├──■─────────────────┤ X ├┤ H ├──■────────────»\n",
            "«        ┌───┐          └─┬─┘└───┘┌─┴─┐┌───┐          └─┬─┘└───┘┌─┴─┐┌───┐     »\n",
            "«   q_1: ┤ H ├──■─────────┼───────┤ X ├┤ H ├──■─────────┼───────┤ X ├┤ H ├──■──»\n",
            "«        └───┘┌─┴─┐┌───┐  │       └───┘└───┘┌─┴─┐┌───┐  │       └───┘└───┘┌─┴─┐»\n",
            "«   q_2: ─────┤ X ├┤ H ├──■─────────────────┤ X ├┤ H ├──■─────────────────┤ X ├»\n",
            "«             └───┘└───┘                    └───┘└───┘                    └───┘»\n",
            "«meas: 3/══════════════════════════════════════════════════════════════════════»\n",
            "«                                                                              »\n",
            "«             ┌───┐ ░ ┌─┐      \n",
            "«   q_0: ─────┤ X ├─░─┤M├──────\n",
            "«             └─┬─┘ ░ └╥┘┌─┐   \n",
            "«   q_1: ───────┼───░──╫─┤M├───\n",
            "«        ┌───┐  │   ░  ║ └╥┘┌─┐\n",
            "«   q_2: ┤ H ├──■───░──╫──╫─┤M├\n",
            "«        └───┘      ░  ║  ║ └╥┘\n",
            "«meas: 3/══════════════╩══╩══╩═\n",
            "«                      0  1  2 \n"
          ]
        }
      ],
      "source": [
        "from qiskit import QuantumCircuit\n",
        "from qiskit.visualization import plot_bloch_multivector, plot_histogram\n",
        "import matplotlib.pyplot as plt\n",
        "\n",
        "def create_vvqc(num_qubits, depth):\n",
        "    \"\"\"Create a variable depth quantum circuit.\n",
        "\n",
        "    Args:\n",
        "        num_qubits (int): Number of qubits in the circuit.\n",
        "        depth (int): Depth of the quantum circuit (number of layers of gates).\n",
        "\n",
        "    Returns:\n",
        "        QuantumCircuit: The constructed variable depth quantum circuit.\n",
        "    \"\"\"\n",
        "    qc = QuantumCircuit(num_qubits)\n",
        "\n",
        "    for d in range(depth):\n",
        "        for q in range(num_qubits):\n",
        "            qc.h(q)  # Apply Hadamard gate\n",
        "            qc.cx(q, (q + 1) % num_qubits)  # Apply CNOT gate (modulo for cyclic connections)\n",
        "\n",
        "    qc.measure_all()\n",
        "    return qc\n",
        "\n",
        "def visualize_circuit(circuit):\n",
        "    \"\"\"Visualize the quantum circuit.\n",
        "\n",
        "    Args:\n",
        "        circuit (QuantumCircuit): The quantum circuit to be visualized.\n",
        "\n",
        "    Returns:\n",
        "        None\n",
        "    \"\"\"\n",
        "    # Display the circuit diagram\n",
        "    print(circuit.draw())\n",
        "\n",
        "# Example usage\n",
        "num_qubits = 3  # Number of qubits\n",
        "depth = 5  # Depth of the quantum circuit\n",
        "\n",
        "qc = create_vvqc(num_qubits, depth)\n",
        "visualize_circuit(qc)\n"
      ]
    },
    {
      "cell_type": "code",
      "source": [
        "from qiskit import QuantumCircuit\n",
        "from qiskit.circuit import Parameter\n",
        "from qiskit.visualization import plot_bloch_multivector\n",
        "import matplotlib.pyplot as plt\n",
        "\n",
        "def create_ansatz(num_qubits):\n",
        "    \"\"\"Create a parameterized ansatz circuit.\n",
        "\n",
        "    Args:\n",
        "        num_qubits (int): Number of qubits in the circuit.\n",
        "\n",
        "    Returns:\n",
        "        QuantumCircuit: The parameterized ansatz circuit.\n",
        "    \"\"\"\n",
        "    qc = QuantumCircuit(num_qubits)\n",
        "\n",
        "    # Define parameters\n",
        "    theta = Parameter('θ')\n",
        "\n",
        "    # Apply parameterized gates\n",
        "    for q in range(num_qubits):\n",
        "        qc.rx(theta, q)  # Apply RX gate with parameter θ\n",
        "        qc.ry(theta, q)  # Apply RY gate with parameter θ\n",
        "        qc.cz(q, (q + 1) % num_qubits)  # Apply CZ gate\n",
        "\n",
        "    return qc\n",
        "\n",
        "def create_vvqc_with_ansatz(num_qubits, depth):\n",
        "    \"\"\"Create a variable depth quantum circuit using a canonical ansatz.\n",
        "\n",
        "    Args:\n",
        "        num_qubits (int): Number of qubits in the circuit.\n",
        "        depth (int): Depth of the quantum circuit (number of repetitions of the ansatz).\n",
        "\n",
        "    Returns:\n",
        "        QuantumCircuit: The constructed variable depth quantum circuit.\n",
        "    \"\"\"\n",
        "    base_circuit = create_ansatz(num_qubits)\n",
        "    qc = QuantumCircuit(num_qubits)\n",
        "\n",
        "    # Add the ansatz circuit multiple times\n",
        "    for _ in range(depth):\n",
        "        qc.append(base_circuit, range(num_qubits))\n",
        "\n",
        "    qc.measure_all()\n",
        "    return qc\n",
        "\n",
        "def visualize_circuit(circuit):\n",
        "    \"\"\"Visualize the quantum circuit.\n",
        "\n",
        "    Args:\n",
        "        circuit (QuantumCircuit): The quantum circuit to be visualized.\n",
        "\n",
        "    Returns:\n",
        "        None\n",
        "    \"\"\"\n",
        "    # Display the circuit diagram\n",
        "    print(circuit.draw())\n",
        "\n",
        "# Example usage\n",
        "num_qubits = 3  # Number of qubits\n",
        "depth = 4  # Depth of the quantum circuit\n",
        "\n",
        "qc = create_vvqc_with_ansatz(num_qubits, depth)\n",
        "visualize_circuit(qc)\n"
      ],
      "metadata": {
        "colab": {
          "base_uri": "https://localhost:8080/"
        },
        "id": "EIeKcuyBa1RA",
        "outputId": "851ae806-fe92-4587-e684-624981af77fc"
      },
      "execution_count": 6,
      "outputs": [
        {
          "output_type": "stream",
          "name": "stdout",
          "text": [
            "        ┌─────────────────┐┌─────────────────┐┌─────────────────┐»\n",
            "   q_0: ┤0                ├┤0                ├┤0                ├»\n",
            "        │                 ││                 ││                 │»\n",
            "   q_1: ┤1 circuit-161(θ) ├┤1 circuit-161(θ) ├┤1 circuit-161(θ) ├»\n",
            "        │                 ││                 ││                 │»\n",
            "   q_2: ┤2                ├┤2                ├┤2                ├»\n",
            "        └─────────────────┘└─────────────────┘└─────────────────┘»\n",
            "meas: 3/═════════════════════════════════════════════════════════»\n",
            "                                                                 »\n",
            "«        ┌─────────────────┐ ░ ┌─┐      \n",
            "«   q_0: ┤0                ├─░─┤M├──────\n",
            "«        │                 │ ░ └╥┘┌─┐   \n",
            "«   q_1: ┤1 circuit-161(θ) ├─░──╫─┤M├───\n",
            "«        │                 │ ░  ║ └╥┘┌─┐\n",
            "«   q_2: ┤2                ├─░──╫──╫─┤M├\n",
            "«        └─────────────────┘ ░  ║  ║ └╥┘\n",
            "«meas: 3/═══════════════════════╩══╩══╩═\n",
            "«                               0  1  2 \n"
          ]
        }
      ]
    },
    {
      "cell_type": "code",
      "source": [
        "from qiskit import QuantumCircuit\n",
        "from qiskit.visualization import plot_bloch_multivector\n",
        "import matplotlib.pyplot as plt\n",
        "\n",
        "def create_ansatz(num_qubits):\n",
        "    \"\"\"Create a parameterized ansatz circuit.\n",
        "\n",
        "    Args:\n",
        "        num_qubits (int): Number of qubits in the circuit.\n",
        "\n",
        "    Returns:\n",
        "        QuantumCircuit: The parameterized ansatz circuit.\n",
        "    \"\"\"\n",
        "    qc = QuantumCircuit(num_qubits)\n",
        "\n",
        "    # Apply gates\n",
        "    for q in range(num_qubits):\n",
        "        qc.h(q)  # Apply Hadamard gate\n",
        "        qc.cx(q, (q + 1) % num_qubits)  # Apply CNOT gate (cyclic)\n",
        "\n",
        "    return qc\n",
        "\n",
        "def create_vvqc_with_ansatz(num_qubits, depth):\n",
        "    \"\"\"Create a variable depth quantum circuit using a canonical ansatz.\n",
        "\n",
        "    Args:\n",
        "        num_qubits (int): Number of qubits in the circuit.\n",
        "        depth (int): Depth of the quantum circuit (number of repetitions of the ansatz).\n",
        "\n",
        "    Returns:\n",
        "        QuantumCircuit: The constructed variable depth quantum circuit.\n",
        "    \"\"\"\n",
        "    base_circuit = create_ansatz(num_qubits)\n",
        "    qc = QuantumCircuit(num_qubits)\n",
        "\n",
        "    # Add the ansatz circuit multiple times\n",
        "    for _ in range(depth):\n",
        "        qc.append(base_circuit, range(num_qubits))\n",
        "\n",
        "    return qc\n",
        "\n",
        "def visualize_circuit(circuit):\n",
        "    \"\"\"Visualize the quantum circuit.\n",
        "\n",
        "    Args:\n",
        "        circuit (QuantumCircuit): The quantum circuit to be visualized.\n",
        "\n",
        "    Returns:\n",
        "        None\n",
        "    \"\"\"\n",
        "    # Display the circuit diagram\n",
        "    fig, ax = plt.subplots(1, 1)\n",
        "    ax.axis('off')\n",
        "    circuit.draw(output='mpl', ax=ax, scale=0.8)  # Adjust scale as needed\n",
        "    plt.show()\n",
        "\n",
        "# Example usage\n",
        "num_qubits = 3  # Number of qubits\n",
        "depth = 4  # Depth of the quantum circuit\n",
        "\n",
        "qc = create_vvqc_with_ansatz(num_qubits, depth)\n",
        "visualize_circuit(qc)\n"
      ],
      "metadata": {
        "colab": {
          "base_uri": "https://localhost:8080/",
          "height": 215
        },
        "id": "f2GwTjHDb58I",
        "outputId": "b1026619-bd7a-4ebf-9e50-9a98d20bf09b"
      },
      "execution_count": 7,
      "outputs": [
        {
          "output_type": "display_data",
          "data": {
            "text/plain": [
              "<Figure size 640x480 with 1 Axes>"
            ],
            "image/png": "[encoded data removed]"
          },
          "metadata": {}
        }
      ]
    },
    {
      "cell_type": "code",
      "source": [
        "from qiskit import QuantumCircuit\n",
        "from qiskit.visualization import circuit_drawer\n",
        "import matplotlib.pyplot as plt\n",
        "\n",
        "def create_ansatz(num_qubits):\n",
        "    \"\"\"Create a parameterized ansatz circuit.\n",
        "\n",
        "    Args:\n",
        "        num_qubits (int): Number of qubits in the circuit.\n",
        "\n",
        "    Returns:\n",
        "        QuantumCircuit: The parameterized ansatz circuit.\n",
        "    \"\"\"\n",
        "    qc = QuantumCircuit(num_qubits)\n",
        "\n",
        "    # Apply gates\n",
        "    for q in range(num_qubits):\n",
        "        qc.h(q)  # Apply Hadamard gate\n",
        "        qc.cx(q, (q + 1) % num_qubits)  # Apply CNOT gate (cyclic)\n",
        "\n",
        "    return qc\n",
        "\n",
        "def create_vvqc_with_ansatz(num_qubits, depth):\n",
        "    \"\"\"Create a variable depth quantum circuit using a canonical ansatz.\n",
        "\n",
        "    Args:\n",
        "        num_qubits (int): Number of qubits in the circuit.\n",
        "        depth (int): Depth of the quantum circuit (number of repetitions of the ansatz).\n",
        "\n",
        "    Returns:\n",
        "        QuantumCircuit: The constructed variable depth quantum circuit.\n",
        "    \"\"\"\n",
        "    base_circuit = create_ansatz(num_qubits)\n",
        "    qc = QuantumCircuit(num_qubits)\n",
        "\n",
        "    # Add the ansatz circuit multiple times\n",
        "    for _ in range(depth):\n",
        "        qc.append(base_circuit, range(num_qubits))\n",
        "\n",
        "    return qc\n",
        "\n",
        "# Example usage\n",
        "num_qubits = 3  # Number of qubits\n",
        "depth = 4  # Depth of the quantum circuit\n",
        "\n",
        "qc = create_vvqc_with_ansatz(num_qubits, depth)\n",
        "\n",
        "# Visualize the quantum circuit\n",
        "fig = plt.figure(figsize=(8, 6))\n",
        "ax = fig.add_subplot(111, aspect='equal')\n",
        "ax.axis('off')\n",
        "img = circuit_drawer(qc, output='mpl', ax=ax, scale=0.8)\n",
        "plt.tight_layout()\n",
        "plt.show()\n"
      ],
      "metadata": {
        "colab": {
          "base_uri": "https://localhost:8080/",
          "height": 314
        },
        "id": "qCTGD_4wd4lp",
        "outputId": "e333d86c-1406-43c6-886e-8392f88c3f4d"
      },
      "execution_count": 8,
      "outputs": [
        {
          "output_type": "display_data",
          "data": {
            "text/plain": [
              "<Figure size 800x600 with 1 Axes>"
            ],
            "image/png": "[encoded data removed]"
          },
          "metadata": {}
        }
      ]
    }
  ]
}