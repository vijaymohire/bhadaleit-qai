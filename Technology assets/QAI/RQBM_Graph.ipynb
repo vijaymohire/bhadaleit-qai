{
  "nbformat": 4,
  "nbformat_minor": 0,
  "metadata": {
    "colab": {
      "provenance": []
    },
    "kernelspec": {
      "name": "python3",
      "display_name": "Python 3"
    },
    "language_info": {
      "name": "python"
    }
  },
  "cells": [
    {
      "cell_type": "code",
      "source": [
        "import networkx as nx\n",
        "import matplotlib.pyplot as plt\n"
      ],
      "metadata": {
        "id": "cz1s4nlZq-n9"
      },
      "execution_count": 3,
      "outputs": []
    },
    {
      "cell_type": "code",
      "execution_count": 4,
      "metadata": {
        "id": "Ycqalj9-qT3D"
      },
      "outputs": [],
      "source": [
        "def create_qbm_graph(num_visible, num_hidden):\n",
        "  \"\"\"Creates a Quantum Boltzmann Machine graph.\n",
        "\n",
        "  Args:\n",
        "    num_visible: Number of visible units.\n",
        "    num_hidden: Number of hidden units.\n",
        "\n",
        "  Returns:\n",
        "    A NetworkX graph representing the QBM.\n",
        "  \"\"\"\n",
        "\n",
        "  G = nx.Graph()\n",
        "\n",
        "  # Create nodes\n",
        "  visible_nodes = [f\"V{i}\" for i in range(num_visible)]\n",
        "  hidden_nodes = [f\"H{i}\" for i in range(num_hidden)]\n",
        "  G.add_nodes_from(visible_nodes, bipartite=0)\n",
        "  G.add_nodes_from(hidden_nodes, bipartite=1)\n",
        "\n",
        "  # Create edges\n",
        "  for v in visible_nodes:\n",
        "    for h in hidden_nodes:\n",
        "      G.add_edge(v, h)\n",
        "\n",
        "  return G\n"
      ]
    },
    {
      "cell_type": "code",
      "source": [
        "def create_rqbm_graph(num_visible, num_hidden):\n",
        "  \"\"\"Creates a Restricted Quantum Boltzmann Machine graph.\n",
        "\n",
        "  Args:\n",
        "    num_visible: Number of visible units.\n",
        "    num_hidden: Number of hidden units.\n",
        "\n",
        "  Returns:\n",
        "    A NetworkX graph representing the RQBM.\n",
        "  \"\"\"\n",
        "\n",
        "  G = nx.Graph()\n",
        "\n",
        "  # Create nodes\n",
        "  visible_nodes = [f\"V{i}\" for i in range(num_visible)]\n",
        "  hidden_nodes = [f\"H{i}\" for i in range(num_hidden)]\n",
        "  G.add_nodes_from(visible_nodes, bipartite=0)\n",
        "  G.add_nodes_from(hidden_nodes, bipartite=1)\n",
        "\n",
        "  # Create edges (restricted connectivity)\n",
        "  for i in range(num_visible):\n",
        "    for j in range(num_hidden):\n",
        "      G.add_edge(visible_nodes[i], hidden_nodes[j])\n",
        "\n",
        "  return G\n"
      ],
      "metadata": {
        "id": "BN3kpsIvqdt3"
      },
      "execution_count": 5,
      "outputs": []
    },
    {
      "cell_type": "code",
      "source": [
        "# Create a QBM and RQBM\n",
        "qbm = create_qbm_graph(3, 2)\n",
        "rqbm = create_rqbm_graph(3, 2)\n",
        "\n",
        "# Draw the graphs\n",
        "plt.figure(figsize=(10, 5))\n",
        "\n",
        "plt.subplot(1, 2, 1)\n",
        "pos = nx.bipartite_layout(qbm,qbm.nodes)\n",
        "nx.draw(qbm, pos, with_labels=True)\n",
        "plt.title(\"QBM\")\n",
        "\n",
        "plt.subplot(1, 2, 2)\n",
        "pos = nx.bipartite_layout(rqbm,qbm.nodes)\n",
        "nx.draw(rqbm, pos, with_labels=True)\n",
        "plt.title(\"RQBM\")\n",
        "\n",
        "plt.show()\n"
      ],
      "metadata": {
        "colab": {
          "base_uri": "https://localhost:8080/",
          "height": 444
        },
        "id": "9l5HBTJaqmQ0",
        "outputId": "63290b45-53f3-4c13-ccbe-aecb8c4a3a0c"
      },
      "execution_count": 7,
      "outputs": [
        {
          "output_type": "display_data",
          "data": {
            "text/plain": [
              "<Figure size 1000x500 with 2 Axes>"
            ],
            "image/png": "[encoded data removed]"
          },
          "metadata": {}
        }
      ]
    }
  ]
}